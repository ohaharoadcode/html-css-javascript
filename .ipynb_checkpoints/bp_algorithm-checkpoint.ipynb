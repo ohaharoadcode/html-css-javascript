{
 "cells": [
  {
   "cell_type": "markdown",
   "metadata": {},
   "source": [
    "## 反向传播算法"
   ]
  },
  {
   "cell_type": "markdown",
   "metadata": {},
   "source": [
    "### 步骤：\n",
    "\n",
    "1.正向算出各神经元的输出\n",
    "\n",
    "2.反向算出各$\\delta$\n",
    "\n",
    "3.计算参数的偏导\n",
    "\n",
    "4.计算损失函数\n",
    "\n",
    "5.更新参数$\\theta$"
   ]
  },
  {
   "cell_type": "markdown",
   "metadata": {},
   "source": [
    "### 实现只有简单神经网络"
   ]
  },
  {
   "cell_type": "code",
   "execution_count": 1,
   "metadata": {},
   "outputs": [],
   "source": [
    "import numpy as np\n",
    "import pandas as pd\n"
   ]
  },
  {
   "cell_type": "code",
   "execution_count": null,
   "metadata": {},
   "outputs": [],
   "source": [
    "#定义层网络\n",
    "class Layer():\n",
    "    def __init__():\n",
    "        self.out = None\n",
    "        self.theta = None\n",
    "        self.z = None\n",
    "        pass\n",
    "    \n",
    "    \n",
    "        \n"
   ]
  },
  {
   "cell_type": "code",
   "execution_count": 6,
   "metadata": {},
   "outputs": [],
   "source": [
    "# 连接各层的模型类\n",
    "class Model():\n",
    "    def __init__():\n",
    "        self.layer=[]\n",
    "        \n",
    "        \n",
    "        pass\n",
    "    \n",
    "    def add(layer):\n",
    "        self.layer.appen(layer)\n",
    "    \n",
    "    def train(X_train,y_train):\n",
    "        self.x = X_train\n",
    "        self.y = y_train\n",
    "\n",
    "                        \n",
    "    def relu(x):\n",
    "        x [x<0] = 0\n",
    "        return x\n",
    "    \n",
    "    def cal_layer(layer,x):# 计算每层神经元输出z和激活输出a\n",
    "        layer.z = np.dot(x,layer.theta)\n",
    "        layer.a = relu(layer.z)\n",
    "        return layer\n",
    "    \n",
    "    def slant_range(x):   #为输入x增加常数项1，即斜距。\n",
    "        x = np.insert(x,0,1,axis=1)\n",
    "        return x\n",
    "        "
   ]
  },
  {
   "cell_type": "code",
   "execution_count": 8,
   "metadata": {},
   "outputs": [
    {
     "data": {
      "text/plain": [
       "array([[1, 0, 1, 2, 3, 4],\n",
       "       [1, 5, 6, 7, 8, 9]])"
      ]
     },
     "execution_count": 8,
     "metadata": {},
     "output_type": "execute_result"
    }
   ],
   "source": []
  }
 ],
 "metadata": {
  "kernelspec": {
   "display_name": "Python 3",
   "language": "python",
   "name": "python3"
  },
  "language_info": {
   "codemirror_mode": {
    "name": "ipython",
    "version": 3
   },
   "file_extension": ".py",
   "mimetype": "text/x-python",
   "name": "python",
   "nbconvert_exporter": "python",
   "pygments_lexer": "ipython3",
   "version": "3.6.0"
  }
 },
 "nbformat": 4,
 "nbformat_minor": 2
}
